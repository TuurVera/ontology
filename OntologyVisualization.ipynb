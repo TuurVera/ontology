{
 "cells": [
  {
   "cell_type": "code",
   "execution_count": 5,
   "metadata": {},
   "outputs": [],
   "source": [
    "import ontospy\n",
    "from ontospy.ontodocs.viz.viz_html_single import *"
   ]
  },
  {
   "cell_type": "code",
   "execution_count": 7,
   "metadata": {},
   "outputs": [
    {
     "name": "stderr",
     "output_type": "stream",
     "text": [
      "Done.\n",
      "=> file://D:\\Temp_D\\index.html\n"
     ]
    }
   ],
   "source": [
    "g = ontospy.Ontospy(\"http://xmlns.com/foaf/0.1/\")\n",
    "\n",
    "v = HTMLVisualizer(g) # => instantiate the visualization object\n",
    "v.build(output_path=\"D:\\Temp_D\") # => render visualization. You can pass an 'output_path' parameter too\n",
    "v.preview() # => open in browser"
   ]
  },
  {
   "cell_type": "code",
   "execution_count": null,
   "metadata": {},
   "outputs": [],
   "source": []
  }
 ],
 "metadata": {
  "kernelspec": {
   "display_name": "Python 3",
   "language": "python",
   "name": "python3"
  },
  "language_info": {
   "codemirror_mode": {
    "name": "ipython",
    "version": 3
   },
   "file_extension": ".py",
   "mimetype": "text/x-python",
   "name": "python",
   "nbconvert_exporter": "python",
   "pygments_lexer": "ipython3",
   "version": "3.8.5"
  }
 },
 "nbformat": 4,
 "nbformat_minor": 4
}
